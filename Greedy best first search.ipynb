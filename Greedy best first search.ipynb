{
 "cells": [
  {
   "cell_type": "code",
   "execution_count": 1,
   "id": "f0f11e81",
   "metadata": {},
   "outputs": [
    {
     "name": "stdout",
     "output_type": "stream",
     "text": [
      "Path from A to F : ['A', 'C', 'F']\n"
     ]
    }
   ],
   "source": [
    "import heapq\n",
    "\n",
    "def greedy_best_first_search(graph, start, goal, heuristic):\n",
    "    open_list = []\n",
    "    heapq.heappush(open_list, (heuristic[start], start))  # (heuristic_value, node)\n",
    "    came_from = {start: None}\n",
    "    \n",
    "    while open_list:\n",
    "        _, current_node = heapq.heappop(open_list)  # Get the node with the smallest heuristic\n",
    "        \n",
    "        if current_node == goal:\n",
    "            return reconstruct_path(came_from, start, goal)\n",
    "        \n",
    "        for neighbor in graph[current_node]:\n",
    "            if neighbor not in came_from:\n",
    "                came_from[neighbor] = current_node\n",
    "                heapq.heappush(open_list, (heuristic[neighbor], neighbor))\n",
    "    \n",
    "    return None  # No path found\n",
    "\n",
    "def reconstruct_path(came_from, start, goal):\n",
    "    path = []\n",
    "    current_node = goal\n",
    "    while current_node != start:\n",
    "        path.append(current_node)\n",
    "        current_node = came_from[current_node]\n",
    "    path.append(start)\n",
    "    path.reverse()\n",
    "    return path\n",
    "\n",
    "# Example graph (adjacency list)\n",
    "graph = {\n",
    "    'A': ['B', 'C'],\n",
    "    'B': ['A', 'D', 'E'],\n",
    "    'C': ['A', 'F'],\n",
    "    'D': ['B'],\n",
    "    'E': ['B', 'F'],\n",
    "    'F': ['C', 'E']\n",
    "}\n",
    "\n",
    "# Heuristic values (e.g., straight-line distance to goal 'F')\n",
    "heuristic = {\n",
    "    'A': 5,\n",
    "    'B': 4,\n",
    "    'C': 3,\n",
    "    'D': 7,\n",
    "    'E': 2,\n",
    "    'F': 0\n",
    "}\n",
    "\n",
    "start = 'A'\n",
    "goal = 'F'\n",
    "\n",
    "path = greedy_best_first_search(graph, start, goal, heuristic)\n",
    "print(\"Path from\", start, \"to\", goal, \":\", path)"
   ]
  },
  {
   "cell_type": "code",
   "execution_count": 4,
   "id": "d262c55d",
   "metadata": {},
   "outputs": [
    {
     "ename": "SyntaxError",
     "evalue": "invalid syntax (711151474.py, line 1)",
     "output_type": "error",
     "traceback": [
      "\u001b[1;36m  Cell \u001b[1;32mIn[4], line 1\u001b[1;36m\u001b[0m\n\u001b[1;33m    def function GreedyBestFirstSearch(start, goal):\u001b[0m\n\u001b[1;37m                 ^\u001b[0m\n\u001b[1;31mSyntaxError\u001b[0m\u001b[1;31m:\u001b[0m invalid syntax\n"
     ]
    }
   ],
   "source": []
  },
  {
   "cell_type": "code",
   "execution_count": null,
   "id": "c2821e1d",
   "metadata": {},
   "outputs": [],
   "source": []
  }
 ],
 "metadata": {
  "kernelspec": {
   "display_name": "Python 3 (ipykernel)",
   "language": "python",
   "name": "python3"
  },
  "language_info": {
   "codemirror_mode": {
    "name": "ipython",
    "version": 3
   },
   "file_extension": ".py",
   "mimetype": "text/x-python",
   "name": "python",
   "nbconvert_exporter": "python",
   "pygments_lexer": "ipython3",
   "version": "3.10.9"
  }
 },
 "nbformat": 4,
 "nbformat_minor": 5
}
