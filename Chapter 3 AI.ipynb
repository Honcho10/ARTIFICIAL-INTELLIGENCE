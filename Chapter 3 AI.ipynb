{
 "cells": [
  {
   "cell_type": "code",
   "execution_count": 6,
   "id": "8e05eff1",
   "metadata": {},
   "outputs": [],
   "source": [
    "from sympy import symbols, Implies\n",
    "from sympy.logic.boolalg import to_cnf\n",
    "from sympy.logic import satisfiable\n"
   ]
  },
  {
   "cell_type": "code",
   "execution_count": 8,
   "id": "4cbd1d80",
   "metadata": {},
   "outputs": [
    {
     "name": "stdout",
     "output_type": "stream",
     "text": [
      "Does Mary own the book after John gives it to her? True\n"
     ]
    }
   ],
   "source": [
    "#1.\tFirst-Order Logic (FOL) Representation using Python\n",
    "\n",
    "\n",
    "\n",
    "# Define symbols\n",
    "John, Mary, B1 = symbols('John Mary B1')\n",
    "Gives = symbols('Gives')\n",
    "Owns = symbols('Owns')\n",
    "\n",
    "# Logical statements\n",
    "# If John gives B1 to Mary, then Mary owns B1\n",
    "rule = Implies(Gives, Owns)\n",
    "\n",
    "# Fact: John gives B1 to Mary\n",
    "fact = Gives\n",
    "\n",
    "# Convert to CNF (Conjunctive Normal Form) for reasoning\n",
    "cnf_rule = to_cnf(rule)\n",
    "cnf_fact = to_cnf(fact)\n",
    "\n",
    "# Check if Owns(Mary, B1) is entailed\n",
    "result = satisfiable(cnf_rule & cnf_fact)\n",
    "\n",
    "# Output inference result\n",
    "print(\"Does Mary own the book after John gives it to her?\", result[Owns] if Owns in result else \"No\")\n"
   ]
  },
  {
   "cell_type": "code",
   "execution_count": 39,
   "id": "b0602354",
   "metadata": {},
   "outputs": [],
   "source": [
    "#Conceptual Graphs (CGs) Representation using Python (NetworkX)\n",
    "\n",
    "import networkx as nx\n",
    "import matplotlib.pyplot as plt\n"
   ]
  },
  {
   "cell_type": "code",
   "execution_count": 40,
   "id": "1723ed1e",
   "metadata": {},
   "outputs": [
    {
     "data": {
      "image/png": "[encoded data removed]",
      "text/plain": [
       "<Figure size 800x600 with 1 Axes>"
      ]
     },
     "metadata": {},
     "output_type": "display_data"
    },
    {
     "name": "stdout",
     "output_type": "stream",
     "text": [
      "Graph Structure:\n",
      "[('John', 'Mary', {'relation': 'gives'}), ('Mary', 'Book', {'relation': 'has'})]\n"
     ]
    }
   ],
   "source": [
    "import networkx as nx\n",
    "import matplotlib.pyplot as plt\n",
    "\n",
    "# Create a directed graph\n",
    "G = nx.DiGraph()\n",
    "\n",
    "# Add nodes for the concepts (John, Mary, and Book)\n",
    "G.add_node(\"John\", type=\"Person\")\n",
    "G.add_node(\"Mary\", type=\"Person\")\n",
    "G.add_node(\"Book\", type=\"Object\")\n",
    "\n",
    "# Add edges for the relationships\n",
    "# John gives a book to Mary\n",
    "G.add_edge(\"John\", \"Mary\", relation=\"gives\")\n",
    "G.add_edge(\"Mary\", \"Book\", relation=\"has\")\n",
    "\n",
    "# Visualizing the graph\n",
    "pos = nx.spring_layout(G)  # Layout for positioning nodes in the plot\n",
    "\n",
    "# Create a new figure and axes explicitly to avoid errors\n",
    "fig, ax = plt.subplots(figsize=(8, 6))\n",
    "\n",
    "# Draw the graph with labels\n",
    "nx.draw(G, pos, with_labels=True, node_size=3000, node_color=\"lightblue\", font_size=12, font_weight=\"bold\", ax=ax)\n",
    "edge_labels = nx.get_edge_attributes(G, 'relation')\n",
    "nx.draw_networkx_edge_labels(G, pos, edge_labels=edge_labels, ax=ax)\n",
    "\n",
    "# Display the plot\n",
    "plt.title(\"Conceptual Graph: John gives Mary a Book\")\n",
    "plt.show()\n",
    "\n",
    "# Display the graph structure in a textual format\n",
    "print(\"Graph Structure:\")\n",
    "print(G.edges(data=True))\n"
   ]
  },
  {
   "cell_type": "code",
   "execution_count": null,
   "id": "fb9b70e0",
   "metadata": {},
   "outputs": [],
   "source": []
  },
  {
   "cell_type": "code",
   "execution_count": 29,
   "id": "6de2d8a8",
   "metadata": {},
   "outputs": [
    {
     "name": "stdout",
     "output_type": "stream",
     "text": [
      "John gives Book to Mary.\n",
      "Giver: Person(name=John, role=Giver)\n",
      "Receiver: Person(name=Mary, role=Receiver)\n",
      "Event: GiveEvent(giver=John, receiver=Mary, object_given=Book)\n"
     ]
    }
   ],
   "source": [
    "class Person:\n",
    "    def __init__(self, name, role):\n",
    "        self.name = name  # Name of the person (e.g., John, Mary)\n",
    "        self.role = role  # Role of the person (e.g., Giver, Receiver)\n",
    "\n",
    "    def __repr__(self):\n",
    "        return f\"Person(name={self.name}, role={self.role})\"\n",
    "\n",
    "\n",
    "class GiveEvent:\n",
    "    def __init__(self, giver, receiver, object_given):\n",
    "        \"\"\"\n",
    "        The GiveEvent class represents the event where a giver gives an object to a receiver.\n",
    "        :param giver: Person giving the object\n",
    "        :param receiver: Person receiving the object\n",
    "        :param object_given: The object being given\n",
    "        \"\"\"\n",
    "        self.giver = giver  # The person who gives the object\n",
    "        self.receiver = receiver  # The person who receives the object\n",
    "        self.object_given = object_given  # The object being given (e.g., book)\n",
    "\n",
    "    def __repr__(self):\n",
    "        return f\"GiveEvent(giver={self.giver.name}, receiver={self.receiver.name}, object_given={self.object_given})\"\n",
    "\n",
    "    def describe_event(self):\n",
    "        return f\"{self.giver.name} gives {self.object_given} to {self.receiver.name}.\"\n",
    "\n",
    "\n",
    "# Creating instances of Person\n",
    "john = Person(\"John\", \"Giver\")\n",
    "mary = Person(\"Mary\", \"Receiver\")\n",
    "\n",
    "# Creating a GiveEvent instance where John gives a book to Mary\n",
    "book = \"Book\"\n",
    "give_event = GiveEvent(john, mary, book)\n",
    "\n",
    "# Describing the event\n",
    "print(give_event.describe_event())\n",
    "\n",
    "# Display the objects and their types\n",
    "print(f\"Giver: {john}\")\n",
    "print(f\"Receiver: {mary}\")\n",
    "print(f\"Event: {give_event}\")\n"
   ]
  },
  {
   "cell_type": "code",
   "execution_count": null,
   "id": "a869bb50",
   "metadata": {},
   "outputs": [],
   "source": []
  }
 ],
 "metadata": {
  "kernelspec": {
   "display_name": "Python 3 (ipykernel)",
   "language": "python",
   "name": "python3"
  },
  "language_info": {
   "codemirror_mode": {
    "name": "ipython",
    "version": 3
   },
   "file_extension": ".py",
   "mimetype": "text/x-python",
   "name": "python",
   "nbconvert_exporter": "python",
   "pygments_lexer": "ipython3",
   "version": "3.10.9"
  }
 },
 "nbformat": 4,
 "nbformat_minor": 5
}
