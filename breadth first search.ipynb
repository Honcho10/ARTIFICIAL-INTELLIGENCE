{
 "cells": [
  {
   "cell_type": "code",
   "execution_count": 1,
   "id": "19982660",
   "metadata": {},
   "outputs": [
    {
     "name": "stdout",
     "output_type": "stream",
     "text": [
      "Path from A to F : ['A', 'C', 'F']\n"
     ]
    }
   ],
   "source": [
    "from collections import deque\n",
    "\n",
    "def bfs(graph, start, goal):\n",
    "    # Initialize the queue with the starting node\n",
    "    queue = deque([start])\n",
    "    # To keep track of the path\n",
    "    came_from = {start: None}\n",
    "    \n",
    "    while queue:\n",
    "        current_node = queue.popleft()  # Remove the node from the front of the queue\n",
    "        \n",
    "        if current_node == goal:\n",
    "            return reconstruct_path(came_from, start, goal)\n",
    "        \n",
    "        for neighbor in graph[current_node]:\n",
    "            if neighbor not in came_from:  # If not visited\n",
    "                queue.append(neighbor)\n",
    "                came_from[neighbor] = current_node\n",
    "    \n",
    "    return None  # If no path is found\n",
    "\n",
    "def reconstruct_path(came_from, start, goal):\n",
    "    path = []\n",
    "    current_node = goal\n",
    "    while current_node != start:\n",
    "        path.append(current_node)\n",
    "        current_node = came_from[current_node]\n",
    "    path.append(start)\n",
    "    path.reverse()  # Reverse the path to get the correct order\n",
    "    return path\n",
    "\n",
    "# Example graph (adjacency list)\n",
    "graph = {\n",
    "    'A': ['B', 'C'],\n",
    "    'B': ['A', 'D', 'E'],\n",
    "    'C': ['A', 'F'],\n",
    "    'D': ['B'],\n",
    "    'E': ['B', 'F'],\n",
    "    'F': ['C', 'E']\n",
    "}\n",
    "\n",
    "# Example usage\n",
    "start = 'A'\n",
    "goal = 'F'\n",
    "path = bfs(graph, start, goal)\n",
    "print(\"Path from\", start, \"to\", goal, \":\", path)\n"
   ]
  },
  {
   "cell_type": "code",
   "execution_count": null,
   "id": "e6e4fc1d",
   "metadata": {},
   "outputs": [],
   "source": []
  }
 ],
 "metadata": {
  "kernelspec": {
   "display_name": "Python 3 (ipykernel)",
   "language": "python",
   "name": "python3"
  },
  "language_info": {
   "codemirror_mode": {
    "name": "ipython",
    "version": 3
   },
   "file_extension": ".py",
   "mimetype": "text/x-python",
   "name": "python",
   "nbconvert_exporter": "python",
   "pygments_lexer": "ipython3",
   "version": "3.10.9"
  }
 },
 "nbformat": 4,
 "nbformat_minor": 5
}
